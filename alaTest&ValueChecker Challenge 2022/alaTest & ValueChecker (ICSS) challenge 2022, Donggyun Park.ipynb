{
 "cells": [
  {
   "cell_type": "markdown",
   "metadata": {},
   "source": [
    "It is assumed that the price lists are in a format shown below, as 'price_lists.txt' file, similar to the one given in the problem description. Also, it is not an empty file, which means it contains at least one operator, and one pair of 'prefix' and 'price per minute' for each operator.   \n",
    "There is one space between the phone number prefix and the price per minute in each line.\n",
    "(I arbitrarily added Operator C and D)\n",
    "\n",
    "Operator A\n",
    "1 0.9\n",
    "268 5.1\n",
    "46 0.17\n",
    "4620 0.0\n",
    "468 0.15\n",
    "4631 0.15\n",
    "4673 0.9\n",
    "46732 1.1\n",
    "Operator B\n",
    "1 0.92\n",
    "44 0.5\n",
    "46 0.2\n",
    "467 1.0\n",
    "48 1.2\n",
    "Operator C\n",
    "453 0.4\n",
    "Operator D\n",
    "123 0.2\n",
    "135 0.5\n",
    "136 0.3"
   ]
  },
  {
   "cell_type": "code",
   "execution_count": 151,
   "metadata": {},
   "outputs": [],
   "source": [
    "# put any numbers and file nmae of the price lists\n",
    "input_number = '123'\n",
    "price_file = open(\"price_lists2.txt\", \"r\")"
   ]
  },
  {
   "cell_type": "code",
   "execution_count": 152,
   "metadata": {},
   "outputs": [],
   "source": [
    "# save the prefixes and price in each element in a list\n",
    "price = price_file.read()\n",
    "price_into_list = price.split(\"\\n\")\n",
    "price_file.close()"
   ]
  },
  {
   "cell_type": "code",
   "execution_count": 153,
   "metadata": {},
   "outputs": [],
   "source": [
    "storage = []\n",
    "num_op = 0\n",
    "name_op = []\n",
    "\n",
    "# count the number of different operators,\n",
    "# save their names,\n",
    "# and save the prefixes and prices in a 2D list\n",
    "for value in price_into_list:\n",
    "    if 'Operator' in value:\n",
    "        num_op += 1\n",
    "        name_op.append(value.split(\" \")[1])\n",
    "        storage.append([])\n",
    "        continue\n",
    "    storage[num_op-1].append(value)\n",
    "\n",
    "# Define the sorting parameter(the number of digits in the prefix)\n",
    "def sort_key(sort_para):\n",
    "    return len(sort_para.split(\" \")[0])\n",
    "\n",
    "# Sort the price list of each operator in a descending order w.r.t. the number of digits in the prefix\n",
    "for idx, value in enumerate(storage):\n",
    "    storage[idx] = sorted(value,key = sort_key ,reverse=True)"
   ]
  },
  {
   "cell_type": "code",
   "execution_count": 156,
   "metadata": {},
   "outputs": [
    {
     "name": "stdout",
     "output_type": "stream",
     "text": [
      "The Cheapest Operator: D\n"
     ]
    }
   ],
   "source": [
    "each_price = ['inf']*num_op    \n",
    "\n",
    "# find the corresponding prices from each operator to the input number\n",
    "for index, operator_list in enumerate(storage):\n",
    "    for operator in operator_list:\n",
    "        if operator.split(\" \")[0] == input_number[0:len(operator.split(\" \")[0])]:\n",
    "            each_price[index] = operator.split(\" \")[1]\n",
    "            break\n",
    "\n",
    "#print(each_price)\n",
    "\n",
    "# print the cheapest operator if there is any operator that has a matching prefix\n",
    "if not all(price == 'inf' for price in each_price):\n",
    "    min_index = each_price.index(min(each_price))\n",
    "    print('The Cheapest Operator:',name_op[min_index])\n",
    "\n",
    "# when there is no matching prefix\n",
    "else:\n",
    "    print('The number is not in the price list.')"
   ]
  },
  {
   "cell_type": "code",
   "execution_count": null,
   "metadata": {},
   "outputs": [],
   "source": []
  }
 ],
 "metadata": {
  "kernelspec": {
   "display_name": "Python 3",
   "language": "python",
   "name": "python3"
  },
  "language_info": {
   "codemirror_mode": {
    "name": "ipython",
    "version": 3
   },
   "file_extension": ".py",
   "mimetype": "text/x-python",
   "name": "python",
   "nbconvert_exporter": "python",
   "pygments_lexer": "ipython3",
   "version": "3.8.3"
  }
 },
 "nbformat": 4,
 "nbformat_minor": 4
}
